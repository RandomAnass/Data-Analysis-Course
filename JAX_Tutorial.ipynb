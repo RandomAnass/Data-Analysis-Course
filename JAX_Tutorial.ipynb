{
  "nbformat": 4,
  "nbformat_minor": 0,
  "metadata": {
    "colab": {
      "name": "JAX Tutorial.ipynb",
      "provenance": [],
      "include_colab_link": true
    },
    "kernelspec": {
      "name": "python3",
      "display_name": "Python 3"
    },
    "accelerator": "GPU"
  },
  "cells": [
    {
      "cell_type": "markdown",
      "metadata": {
        "id": "view-in-github",
        "colab_type": "text"
      },
      "source": [
        "<a href=\"https://colab.research.google.com/github/RandomAnass/Data-Analysis-Course/blob/main/JAX_Tutorial.ipynb\" target=\"_parent\"><img src=\"https://colab.research.google.com/assets/colab-badge.svg\" alt=\"Open In Colab\"/></a>"
      ]
    },
    {
      "cell_type": "code",
      "metadata": {
        "id": "12TM5qL4i3RE",
        "outputId": "6ba219a8-f1ca-44e9-ec8b-a09c18d02d7b",
        "colab": {
          "base_uri": "https://localhost:8080/",
          "height": 34
        }
      },
      "source": [
        "%tensorflow_version 2.x"
      ],
      "execution_count": null,
      "outputs": [
        {
          "output_type": "stream",
          "text": [
            "TensorFlow 2.x selected.\n"
          ],
          "name": "stdout"
        }
      ]
    },
    {
      "cell_type": "code",
      "metadata": {
        "id": "lRmDy8DXi71S",
        "outputId": "c6b4de94-fdcf-48b0-94bd-eadd47bc7325",
        "colab": {
          "base_uri": "https://localhost:8080/"
        }
      },
      "source": [
        "!pip install --upgrade jax"
      ],
      "execution_count": null,
      "outputs": [
        {
          "output_type": "stream",
          "name": "stdout",
          "text": [
            "Requirement already satisfied: jax in /usr/local/lib/python3.12/dist-packages (0.5.3)\n",
            "Collecting jax\n",
            "  Downloading jax-0.7.1-py3-none-any.whl.metadata (13 kB)\n",
            "Collecting jaxlib<=0.7.1,>=0.7.1 (from jax)\n",
            "  Downloading jaxlib-0.7.1-cp312-cp312-manylinux_2_27_x86_64.whl.metadata (1.3 kB)\n",
            "Requirement already satisfied: ml_dtypes>=0.5.0 in /usr/local/lib/python3.12/dist-packages (from jax) (0.5.3)\n",
            "Requirement already satisfied: numpy>=1.26 in /usr/local/lib/python3.12/dist-packages (from jax) (2.0.2)\n",
            "Requirement already satisfied: opt_einsum in /usr/local/lib/python3.12/dist-packages (from jax) (3.4.0)\n",
            "Requirement already satisfied: scipy>=1.12 in /usr/local/lib/python3.12/dist-packages (from jax) (1.16.1)\n",
            "Downloading jax-0.7.1-py3-none-any.whl (2.8 MB)\n",
            "\u001b[2K   \u001b[90m━━━━━━━━━━━━━━━━━━━━━━━━━━━━━━━━━━━━━━━━\u001b[0m \u001b[32m2.8/2.8 MB\u001b[0m \u001b[31m44.7 MB/s\u001b[0m eta \u001b[36m0:00:00\u001b[0m\n",
            "\u001b[?25hDownloading jaxlib-0.7.1-cp312-cp312-manylinux_2_27_x86_64.whl (81.2 MB)\n",
            "\u001b[2K   \u001b[90m━━━━━━━━━━━━━━━━━━━━━━━━━━━━━━━━━━━━━━━━\u001b[0m \u001b[32m81.2/81.2 MB\u001b[0m \u001b[31m10.7 MB/s\u001b[0m eta \u001b[36m0:00:00\u001b[0m\n",
            "\u001b[?25hInstalling collected packages: jaxlib, jax\n",
            "  Attempting uninstall: jaxlib\n",
            "    Found existing installation: jaxlib 0.5.3\n",
            "    Uninstalling jaxlib-0.5.3:\n",
            "      Successfully uninstalled jaxlib-0.5.3\n",
            "  Attempting uninstall: jax\n",
            "    Found existing installation: jax 0.5.3\n",
            "    Uninstalling jax-0.5.3:\n",
            "      Successfully uninstalled jax-0.5.3\n"
          ]
        }
      ]
    },
    {
      "cell_type": "markdown",
      "metadata": {
        "id": "OpRORJ6tkelE"
      },
      "source": [
        "# JAX 1. Numpy Wrapper"
      ]
    },
    {
      "cell_type": "code",
      "metadata": {
        "id": "6ewm5mgFi80g",
        "outputId": "84d8b936-a546-4189-c8dd-1b787ab26529",
        "colab": {
          "base_uri": "https://localhost:8080/",
          "height": 34
        }
      },
      "source": [
        "import numpy as np\n",
        "\n",
        "x = np.ones((5000, 5000))\n",
        "y = np.arange(5000)\n",
        "\n",
        "%timeit z = np.sin(x) + np.cos(y)"
      ],
      "execution_count": null,
      "outputs": [
        {
          "output_type": "stream",
          "text": [
            "1 loop, best of 3: 401 ms per loop\n"
          ],
          "name": "stdout"
        }
      ]
    },
    {
      "cell_type": "code",
      "metadata": {
        "id": "lsjQwMS5jL9K",
        "outputId": "2de97392-96a6-4f71-bc80-e5e3906bf6a2",
        "colab": {
          "base_uri": "https://localhost:8080/",
          "height": 34
        }
      },
      "source": [
        "import jax.numpy as jnp\n",
        "x = jnp.ones((5000, 5000))\n",
        "y = jnp.arange(5000)\n",
        "\n",
        "%timeit z = jnp.sin(x) + jnp.cos(y)"
      ],
      "execution_count": null,
      "outputs": [
        {
          "output_type": "stream",
          "text": [
            "100 loops, best of 3: 2.15 ms per loop\n"
          ],
          "name": "stdout"
        }
      ]
    },
    {
      "cell_type": "markdown",
      "metadata": {
        "id": "2s74k_3ekx5r"
      },
      "source": [
        "# JAX 2. JIT Compiler"
      ]
    },
    {
      "cell_type": "code",
      "metadata": {
        "id": "VhD5QzxNjTQo"
      },
      "source": [
        "from jax import jit\n",
        "import tensorflow as tf\n",
        "\n",
        "def fn(x, y):\n",
        "  z = np.sin(x)\n",
        "  w = np.cos(y)\n",
        "  return z + w\n",
        "\n",
        "@jit\n",
        "def fn_jit(x, y):\n",
        "  z = jnp.sin(x)\n",
        "  w = jnp.cos(y)\n",
        "  return z + w\n",
        "\n",
        "@tf.function\n",
        "def fn_tf2(x, y):\n",
        "  z = tf.sin(x)\n",
        "  w = tf.cos(y)\n",
        "  return z + w"
      ],
      "execution_count": null,
      "outputs": []
    },
    {
      "cell_type": "code",
      "metadata": {
        "id": "cl1PIhYsnV2q",
        "outputId": "4e9f46f1-ebed-4e29-abd9-19df4a0cfde6",
        "colab": {
          "base_uri": "https://localhost:8080/",
          "height": 34
        }
      },
      "source": [
        "x = np.ones((5000, 5000))\n",
        "y = np.ones((5000, 5000))\n",
        "%timeit fn(x, y)"
      ],
      "execution_count": null,
      "outputs": [
        {
          "output_type": "stream",
          "text": [
            "1 loop, best of 3: 780 ms per loop\n"
          ],
          "name": "stdout"
        }
      ]
    },
    {
      "cell_type": "code",
      "metadata": {
        "id": "_ogfbuO_nTaY",
        "outputId": "423d77a4-76a1-4ff2-e674-8855fe21b346",
        "colab": {
          "base_uri": "https://localhost:8080/",
          "height": 34
        }
      },
      "source": [
        "jx = jnp.ones((5000, 5000))\n",
        "jy = jnp.ones((5000, 5000))\n",
        "%timeit fn_jit(jx, jy)"
      ],
      "execution_count": null,
      "outputs": [
        {
          "output_type": "stream",
          "text": [
            "100 loops, best of 3: 2.12 ms per loop\n"
          ],
          "name": "stdout"
        }
      ]
    },
    {
      "cell_type": "code",
      "metadata": {
        "id": "Avtiy3VPncSS",
        "outputId": "6aaf00f1-6d5d-46f8-95d6-1aeba9ff5ace",
        "colab": {
          "base_uri": "https://localhost:8080/",
          "height": 71
        }
      },
      "source": [
        "tx = tf.ones((5000, 5000))\n",
        "ty = tf.ones((5000, 5000))\n",
        "%timeit fn_tf2(tx, ty)"
      ],
      "execution_count": null,
      "outputs": [
        {
          "output_type": "stream",
          "text": [
            "The slowest run took 4.55 times longer than the fastest. This could mean that an intermediate result is being cached.\n",
            "1000 loops, best of 3: 3.36 ms per loop\n"
          ],
          "name": "stdout"
        }
      ]
    },
    {
      "cell_type": "markdown",
      "metadata": {
        "id": "PzodSnzgs1Eu"
      },
      "source": [
        "# JAX 3. grad"
      ]
    },
    {
      "cell_type": "code",
      "metadata": {
        "id": "QLyN4sF-ookp"
      },
      "source": [
        "from jax import grad\n",
        "\n",
        "@jit\n",
        "def simple_fun(x):\n",
        "  return jnp.sin(x) / x"
      ],
      "execution_count": null,
      "outputs": []
    },
    {
      "cell_type": "code",
      "metadata": {
        "id": "YPQ_q3J_qo6e"
      },
      "source": [
        "grad_simple_fun = grad(simple_fun)"
      ],
      "execution_count": null,
      "outputs": []
    },
    {
      "cell_type": "code",
      "metadata": {
        "id": "Hmx864Wrqqkn",
        "outputId": "0099c3f6-5242-4825-f67c-3d3108e812dc",
        "colab": {
          "base_uri": "https://localhost:8080/",
          "height": 34
        }
      },
      "source": [
        "%timeit grad_simple_fun(1.0)"
      ],
      "execution_count": null,
      "outputs": [
        {
          "output_type": "stream",
          "text": [
            "1000 loops, best of 3: 1.22 ms per loop\n"
          ],
          "name": "stdout"
        }
      ]
    },
    {
      "cell_type": "code",
      "metadata": {
        "id": "3NN2Rqr0r-zE",
        "outputId": "0143afee-155e-46e9-c11c-48e1117cb8e3",
        "colab": {
          "base_uri": "https://localhost:8080/",
          "height": 187
        }
      },
      "source": [
        "x_range = jnp.arange(10, dtype=jnp.float32)\n",
        "[grad_simple_fun(xi) for xi in x_range]"
      ],
      "execution_count": null,
      "outputs": [
        {
          "output_type": "execute_result",
          "data": {
            "text/plain": [
              "[DeviceArray(nan, dtype=float32),\n",
              " DeviceArray(-0.30116874, dtype=float32),\n",
              " DeviceArray(-0.43539774, dtype=float32),\n",
              " DeviceArray(-0.3456775, dtype=float32),\n",
              " DeviceArray(-0.11611074, dtype=float32),\n",
              " DeviceArray(0.09508941, dtype=float32),\n",
              " DeviceArray(0.16778992, dtype=float32),\n",
              " DeviceArray(0.09429243, dtype=float32),\n",
              " DeviceArray(-0.03364623, dtype=float32),\n",
              " DeviceArray(-0.10632458, dtype=float32)]"
            ]
          },
          "metadata": {
            "tags": []
          },
          "execution_count": 77
        }
      ]
    },
    {
      "cell_type": "code",
      "metadata": {
        "id": "PcZCALcmqrlk"
      },
      "source": [
        "grad_grad_simple_fun = grad(grad(simple_fun))"
      ],
      "execution_count": null,
      "outputs": []
    },
    {
      "cell_type": "code",
      "metadata": {
        "id": "g8kZ-K-Erkfl",
        "outputId": "56669dd6-44dd-48ff-dd2d-71d61342cb30",
        "colab": {
          "base_uri": "https://localhost:8080/",
          "height": 71
        }
      },
      "source": [
        "%timeit grad_grad_simple_fun(1.0)"
      ],
      "execution_count": null,
      "outputs": [
        {
          "output_type": "stream",
          "text": [
            "The slowest run took 93.35 times longer than the fastest. This could mean that an intermediate result is being cached.\n",
            "1 loop, best of 3: 3.19 ms per loop\n"
          ],
          "name": "stdout"
        }
      ]
    },
    {
      "cell_type": "code",
      "metadata": {
        "id": "lNaREYVErlkH",
        "outputId": "a19b3fd4-f856-49c1-ef7c-dbe7d8ec2307",
        "colab": {
          "base_uri": "https://localhost:8080/",
          "height": 34
        }
      },
      "source": [
        "grad_grad_simple_fun(1.0)"
      ],
      "execution_count": null,
      "outputs": [
        {
          "output_type": "execute_result",
          "data": {
            "text/plain": [
              "DeviceArray(-0.23913354, dtype=float32)"
            ]
          },
          "metadata": {
            "tags": []
          },
          "execution_count": 73
        }
      ]
    },
    {
      "cell_type": "code",
      "metadata": {
        "id": "TmyVUJrAsGBZ",
        "outputId": "dd01de27-f132-4921-d390-585c75668445",
        "colab": {
          "base_uri": "https://localhost:8080/",
          "height": 187
        }
      },
      "source": [
        "x_range = jnp.arange(10, dtype=jnp.float32)\n",
        "[grad_grad_simple_fun(xi) for xi in x_range]"
      ],
      "execution_count": null,
      "outputs": [
        {
          "output_type": "execute_result",
          "data": {
            "text/plain": [
              "[DeviceArray(nan, dtype=float32),\n",
              " DeviceArray(-0.23913354, dtype=float32),\n",
              " DeviceArray(-0.01925094, dtype=float32),\n",
              " DeviceArray(0.18341166, dtype=float32),\n",
              " DeviceArray(0.247256, dtype=float32),\n",
              " DeviceArray(0.1537491, dtype=float32),\n",
              " DeviceArray(-0.00936072, dtype=float32),\n",
              " DeviceArray(-0.12079593, dtype=float32),\n",
              " DeviceArray(-0.11525822, dtype=float32),\n",
              " DeviceArray(-0.02216326, dtype=float32)]"
            ]
          },
          "metadata": {
            "tags": []
          },
          "execution_count": 78
        }
      ]
    },
    {
      "cell_type": "code",
      "metadata": {
        "id": "21PcHaMFrmnN"
      },
      "source": [],
      "execution_count": null,
      "outputs": []
    },
    {
      "cell_type": "markdown",
      "source": [
        "# Intro\n"
      ],
      "metadata": {
        "id": "tU_ojz4j51XT"
      }
    },
    {
      "cell_type": "markdown",
      "source": [
        "hands-on coverage of: JAX basics (jit/grad/vmap), pytrees, PRNG best practices; autodiff theory & APIs (jvp/vjp, jacfwd/jacrev, custom rules); control flow; LAX primitives; performance (tracing, static args, donation, remat, timing); vectorization & parallelism (vmap, pmap, intro to pjit & sharding); numerics & mixed precision; end-to-end models (MLP, CNN, RNN with scan, compact Transformer block); optimization with Optax; saving/loading; debugging/profiling; interop"
      ],
      "metadata": {
        "id": "_bpg1eGG54A6"
      }
    },
    {
      "cell_type": "code",
      "source": [],
      "metadata": {
        "id": "f_J5Q8cd57Bx"
      },
      "execution_count": null,
      "outputs": []
    }
  ]
}